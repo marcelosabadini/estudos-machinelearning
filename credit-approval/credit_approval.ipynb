{
 "metadata": {
  "language_info": {
   "codemirror_mode": {
    "name": "ipython",
    "version": 3
   },
   "file_extension": ".py",
   "mimetype": "text/x-python",
   "name": "python",
   "nbconvert_exporter": "python",
   "pygments_lexer": "ipython3",
   "version": "3.8.0-final"
  },
  "orig_nbformat": 2,
  "kernelspec": {
   "name": "python_defaultSpec_1599785728387",
   "display_name": "Python 3.8.0 32-bit"
  }
 },
 "nbformat": 4,
 "nbformat_minor": 2,
 "cells": [
  {
   "source": [
    "Dados vindo do site https://archive.ics.uci.edu/ml/datasets/Credit+Approval\n",
    "\n",
    "Data Set Information:\n",
    "\n",
    "This file concerns credit card applications. All attribute names and values have been changed to meaningless symbols to protect confidentiality of the data.\n",
    "\n",
    "This dataset is interesting because there is a good mix of attributes -- continuous, nominal with small numbers of values, and nominal with larger numbers of values. There are also a few missing values.\n",
    "\n",
    "\n",
    "Attribute Information:\n",
    "\n",
    "\n",
    "A1: b, a.\n",
    "\n",
    "A2: continuous.\n",
    "\n",
    "A3: continuous.\n",
    "\n",
    "A4: u, y, l, t.\n",
    "\n",
    "A5: g, p, gg.\n",
    "\n",
    "A6: c, d, cc, i, j, k, m, r, q, w, x, e, aa, ff.\n",
    "\n",
    "A7: v, h, bb, j, n, z, dd, ff, o.\n",
    "\n",
    "A8: continuous.\n",
    "\n",
    "A9: t, f.\n",
    "\n",
    "A10: t, f.\n",
    "\n",
    "A11: continuous.\n",
    "\n",
    "A12: t, f.\n",
    "\n",
    "A13: g, p, s.\n",
    "\n",
    "A14: continuous.\n",
    "\n",
    "A15: continuous.\n",
    "\n",
    "A16: +,- (class attribute)\n",
    "\n"
   ],
   "cell_type": "markdown",
   "metadata": {}
  },
  {
   "cell_type": "code",
   "execution_count": 2,
   "metadata": {},
   "outputs": [],
   "source": [
    "import numpy as np\n",
    "import pandas as pd"
   ]
  },
  {
   "cell_type": "code",
   "execution_count": 3,
   "metadata": {},
   "outputs": [],
   "source": [
    "df = pd.read_csv('crx.data', index_col=False)\n",
    "\n",
    "# Renomeando as colunas\n",
    "df.columns = ['A', 'B', 'C', 'D', 'E', 'F', 'G', 'H', 'I', 'J', 'K', 'L', 'M', 'N', 'O', 'Approved']"
   ]
  },
  {
   "cell_type": "code",
   "execution_count": 4,
   "metadata": {},
   "outputs": [
    {
     "output_type": "execute_result",
     "data": {
      "text/plain": "   A      B      C  D  E  F  G     H  I  J  K  L  M      N    O Approved\n0  a  58.67  4.460  u  g  q  h  3.04  t  t  6  f  g  00043  560        +\n1  a  24.50  0.500  u  g  q  h  1.50  t  f  0  f  g  00280  824        +\n2  b  27.83  1.540  u  g  w  v  3.75  t  t  5  t  g  00100    3        +\n3  b  20.17  5.625  u  g  w  v  1.71  t  f  0  f  s  00120    0        +\n4  b  32.08  4.000  u  g  m  v  2.50  t  f  0  t  g  00360    0        +",
      "text/html": "<div>\n<style scoped>\n    .dataframe tbody tr th:only-of-type {\n        vertical-align: middle;\n    }\n\n    .dataframe tbody tr th {\n        vertical-align: top;\n    }\n\n    .dataframe thead th {\n        text-align: right;\n    }\n</style>\n<table border=\"1\" class=\"dataframe\">\n  <thead>\n    <tr style=\"text-align: right;\">\n      <th></th>\n      <th>A</th>\n      <th>B</th>\n      <th>C</th>\n      <th>D</th>\n      <th>E</th>\n      <th>F</th>\n      <th>G</th>\n      <th>H</th>\n      <th>I</th>\n      <th>J</th>\n      <th>K</th>\n      <th>L</th>\n      <th>M</th>\n      <th>N</th>\n      <th>O</th>\n      <th>Approved</th>\n    </tr>\n  </thead>\n  <tbody>\n    <tr>\n      <th>0</th>\n      <td>a</td>\n      <td>58.67</td>\n      <td>4.460</td>\n      <td>u</td>\n      <td>g</td>\n      <td>q</td>\n      <td>h</td>\n      <td>3.04</td>\n      <td>t</td>\n      <td>t</td>\n      <td>6</td>\n      <td>f</td>\n      <td>g</td>\n      <td>00043</td>\n      <td>560</td>\n      <td>+</td>\n    </tr>\n    <tr>\n      <th>1</th>\n      <td>a</td>\n      <td>24.50</td>\n      <td>0.500</td>\n      <td>u</td>\n      <td>g</td>\n      <td>q</td>\n      <td>h</td>\n      <td>1.50</td>\n      <td>t</td>\n      <td>f</td>\n      <td>0</td>\n      <td>f</td>\n      <td>g</td>\n      <td>00280</td>\n      <td>824</td>\n      <td>+</td>\n    </tr>\n    <tr>\n      <th>2</th>\n      <td>b</td>\n      <td>27.83</td>\n      <td>1.540</td>\n      <td>u</td>\n      <td>g</td>\n      <td>w</td>\n      <td>v</td>\n      <td>3.75</td>\n      <td>t</td>\n      <td>t</td>\n      <td>5</td>\n      <td>t</td>\n      <td>g</td>\n      <td>00100</td>\n      <td>3</td>\n      <td>+</td>\n    </tr>\n    <tr>\n      <th>3</th>\n      <td>b</td>\n      <td>20.17</td>\n      <td>5.625</td>\n      <td>u</td>\n      <td>g</td>\n      <td>w</td>\n      <td>v</td>\n      <td>1.71</td>\n      <td>t</td>\n      <td>f</td>\n      <td>0</td>\n      <td>f</td>\n      <td>s</td>\n      <td>00120</td>\n      <td>0</td>\n      <td>+</td>\n    </tr>\n    <tr>\n      <th>4</th>\n      <td>b</td>\n      <td>32.08</td>\n      <td>4.000</td>\n      <td>u</td>\n      <td>g</td>\n      <td>m</td>\n      <td>v</td>\n      <td>2.50</td>\n      <td>t</td>\n      <td>f</td>\n      <td>0</td>\n      <td>t</td>\n      <td>g</td>\n      <td>00360</td>\n      <td>0</td>\n      <td>+</td>\n    </tr>\n  </tbody>\n</table>\n</div>"
     },
     "metadata": {},
     "execution_count": 4
    }
   ],
   "source": [
    "# Dando um check no conteudo\n",
    "df.head()"
   ]
  },
  {
   "cell_type": "code",
   "execution_count": 5,
   "metadata": {},
   "outputs": [
    {
     "output_type": "execute_result",
     "data": {
      "text/plain": "                C           H           K              O\ncount  689.000000  689.000000  689.000000     689.000000\nmean     4.765631    2.224819    2.402032    1018.862119\nstd      4.978470    3.348739    4.866180    5213.743149\nmin      0.000000    0.000000    0.000000       0.000000\n25%      1.000000    0.165000    0.000000       0.000000\n50%      2.750000    1.000000    0.000000       5.000000\n75%      7.250000    2.625000    3.000000     396.000000\nmax     28.000000   28.500000   67.000000  100000.000000",
      "text/html": "<div>\n<style scoped>\n    .dataframe tbody tr th:only-of-type {\n        vertical-align: middle;\n    }\n\n    .dataframe tbody tr th {\n        vertical-align: top;\n    }\n\n    .dataframe thead th {\n        text-align: right;\n    }\n</style>\n<table border=\"1\" class=\"dataframe\">\n  <thead>\n    <tr style=\"text-align: right;\">\n      <th></th>\n      <th>C</th>\n      <th>H</th>\n      <th>K</th>\n      <th>O</th>\n    </tr>\n  </thead>\n  <tbody>\n    <tr>\n      <th>count</th>\n      <td>689.000000</td>\n      <td>689.000000</td>\n      <td>689.000000</td>\n      <td>689.000000</td>\n    </tr>\n    <tr>\n      <th>mean</th>\n      <td>4.765631</td>\n      <td>2.224819</td>\n      <td>2.402032</td>\n      <td>1018.862119</td>\n    </tr>\n    <tr>\n      <th>std</th>\n      <td>4.978470</td>\n      <td>3.348739</td>\n      <td>4.866180</td>\n      <td>5213.743149</td>\n    </tr>\n    <tr>\n      <th>min</th>\n      <td>0.000000</td>\n      <td>0.000000</td>\n      <td>0.000000</td>\n      <td>0.000000</td>\n    </tr>\n    <tr>\n      <th>25%</th>\n      <td>1.000000</td>\n      <td>0.165000</td>\n      <td>0.000000</td>\n      <td>0.000000</td>\n    </tr>\n    <tr>\n      <th>50%</th>\n      <td>2.750000</td>\n      <td>1.000000</td>\n      <td>0.000000</td>\n      <td>5.000000</td>\n    </tr>\n    <tr>\n      <th>75%</th>\n      <td>7.250000</td>\n      <td>2.625000</td>\n      <td>3.000000</td>\n      <td>396.000000</td>\n    </tr>\n    <tr>\n      <th>max</th>\n      <td>28.000000</td>\n      <td>28.500000</td>\n      <td>67.000000</td>\n      <td>100000.000000</td>\n    </tr>\n  </tbody>\n</table>\n</div>"
     },
     "metadata": {},
     "execution_count": 5
    }
   ],
   "source": [
    "df.describe()"
   ]
  },
  {
   "cell_type": "code",
   "execution_count": 6,
   "metadata": {},
   "outputs": [],
   "source": [
    "# Convertendo o conteudo do nosso target para 0 ou 1\n",
    "df['Approved'] = (df['Approved'] == '+').astype(int)"
   ]
  },
  {
   "cell_type": "code",
   "execution_count": 7,
   "metadata": {},
   "outputs": [
    {
     "output_type": "execute_result",
     "data": {
      "text/plain": "   A      B      C  D  E  F  G     H  I  J  K  L  M      N    O  Approved\n0  a  58.67  4.460  u  g  q  h  3.04  t  t  6  f  g  00043  560         1\n1  a  24.50  0.500  u  g  q  h  1.50  t  f  0  f  g  00280  824         1\n2  b  27.83  1.540  u  g  w  v  3.75  t  t  5  t  g  00100    3         1\n3  b  20.17  5.625  u  g  w  v  1.71  t  f  0  f  s  00120    0         1\n4  b  32.08  4.000  u  g  m  v  2.50  t  f  0  t  g  00360    0         1",
      "text/html": "<div>\n<style scoped>\n    .dataframe tbody tr th:only-of-type {\n        vertical-align: middle;\n    }\n\n    .dataframe tbody tr th {\n        vertical-align: top;\n    }\n\n    .dataframe thead th {\n        text-align: right;\n    }\n</style>\n<table border=\"1\" class=\"dataframe\">\n  <thead>\n    <tr style=\"text-align: right;\">\n      <th></th>\n      <th>A</th>\n      <th>B</th>\n      <th>C</th>\n      <th>D</th>\n      <th>E</th>\n      <th>F</th>\n      <th>G</th>\n      <th>H</th>\n      <th>I</th>\n      <th>J</th>\n      <th>K</th>\n      <th>L</th>\n      <th>M</th>\n      <th>N</th>\n      <th>O</th>\n      <th>Approved</th>\n    </tr>\n  </thead>\n  <tbody>\n    <tr>\n      <th>0</th>\n      <td>a</td>\n      <td>58.67</td>\n      <td>4.460</td>\n      <td>u</td>\n      <td>g</td>\n      <td>q</td>\n      <td>h</td>\n      <td>3.04</td>\n      <td>t</td>\n      <td>t</td>\n      <td>6</td>\n      <td>f</td>\n      <td>g</td>\n      <td>00043</td>\n      <td>560</td>\n      <td>1</td>\n    </tr>\n    <tr>\n      <th>1</th>\n      <td>a</td>\n      <td>24.50</td>\n      <td>0.500</td>\n      <td>u</td>\n      <td>g</td>\n      <td>q</td>\n      <td>h</td>\n      <td>1.50</td>\n      <td>t</td>\n      <td>f</td>\n      <td>0</td>\n      <td>f</td>\n      <td>g</td>\n      <td>00280</td>\n      <td>824</td>\n      <td>1</td>\n    </tr>\n    <tr>\n      <th>2</th>\n      <td>b</td>\n      <td>27.83</td>\n      <td>1.540</td>\n      <td>u</td>\n      <td>g</td>\n      <td>w</td>\n      <td>v</td>\n      <td>3.75</td>\n      <td>t</td>\n      <td>t</td>\n      <td>5</td>\n      <td>t</td>\n      <td>g</td>\n      <td>00100</td>\n      <td>3</td>\n      <td>1</td>\n    </tr>\n    <tr>\n      <th>3</th>\n      <td>b</td>\n      <td>20.17</td>\n      <td>5.625</td>\n      <td>u</td>\n      <td>g</td>\n      <td>w</td>\n      <td>v</td>\n      <td>1.71</td>\n      <td>t</td>\n      <td>f</td>\n      <td>0</td>\n      <td>f</td>\n      <td>s</td>\n      <td>00120</td>\n      <td>0</td>\n      <td>1</td>\n    </tr>\n    <tr>\n      <th>4</th>\n      <td>b</td>\n      <td>32.08</td>\n      <td>4.000</td>\n      <td>u</td>\n      <td>g</td>\n      <td>m</td>\n      <td>v</td>\n      <td>2.50</td>\n      <td>t</td>\n      <td>f</td>\n      <td>0</td>\n      <td>t</td>\n      <td>g</td>\n      <td>00360</td>\n      <td>0</td>\n      <td>1</td>\n    </tr>\n  </tbody>\n</table>\n</div>"
     },
     "metadata": {},
     "execution_count": 7
    }
   ],
   "source": [
    "df.head()"
   ]
  },
  {
   "cell_type": "code",
   "execution_count": 9,
   "metadata": {},
   "outputs": [
    {
     "output_type": "execute_result",
     "data": {
      "text/plain": "A           0\nB           0\nC           0\nD           0\nE           0\nF           0\nG           0\nH           0\nI           0\nJ           0\nK           0\nL           0\nM           0\nN           0\nO           0\nApproved    0\ndtype: int64"
     },
     "metadata": {},
     "execution_count": 9
    }
   ],
   "source": [
    "# vai tratar valores nullos\n",
    "df.isnull().sum()\n",
    "\n",
    "# bom.. nao tem nulos. Mas não fique tao animado.. sempre tem pegadinha \n"
   ]
  },
  {
   "cell_type": "code",
   "execution_count": 10,
   "metadata": {},
   "outputs": [],
   "source": [
    "# Vai converter as colunas categoricas\n",
    "categorical_columns = ['A', 'D', 'E', 'F', 'G', 'I', 'J', 'K', 'L', 'M', 'N']\n",
    "for c in categorical_columns:\n",
    "    df[c] = pd.Categorical(df[c]).codes"
   ]
  },
  {
   "cell_type": "code",
   "execution_count": 11,
   "metadata": {
    "tags": []
   },
   "outputs": [
    {
     "output_type": "stream",
     "name": "stdout",
     "text": "<class 'pandas.core.frame.DataFrame'>\nRangeIndex: 689 entries, 0 to 688\nData columns (total 16 columns):\n #   Column    Non-Null Count  Dtype  \n---  ------    --------------  -----  \n 0   A         689 non-null    int8   \n 1   B         689 non-null    object \n 2   C         689 non-null    float64\n 3   D         689 non-null    int8   \n 4   E         689 non-null    int8   \n 5   F         689 non-null    int8   \n 6   G         689 non-null    int8   \n 7   H         689 non-null    float64\n 8   I         689 non-null    int8   \n 9   J         689 non-null    int8   \n 10  K         689 non-null    int8   \n 11  L         689 non-null    int8   \n 12  M         689 non-null    int8   \n 13  N         689 non-null    int16  \n 14  O         689 non-null    int64  \n 15  Approved  689 non-null    int32  \ndtypes: float64(2), int16(1), int32(1), int64(1), int8(10), object(1)\nmemory usage: 29.7+ KB\n"
    }
   ],
   "source": [
    "# Vamos ver os tipos dos dados\n",
    "df.info()"
   ]
  },
  {
   "cell_type": "code",
   "execution_count": 14,
   "metadata": {},
   "outputs": [],
   "source": [
    "# Sacou a pegadinha? a coluna B no info() fala que é Object, porém é para ser continua (de acordo com o texto la no inicio)\n",
    "\n",
    "# Vamos tirar esse ? e sapegar um -1\n",
    "df['B'] = df['B'].replace('?', -1)"
   ]
  },
  {
   "cell_type": "code",
   "execution_count": 15,
   "metadata": {},
   "outputs": [
    {
     "output_type": "execute_result",
     "data": {
      "text/plain": "A           0\nB           0\nC           0\nD           0\nE           0\nF           0\nG           0\nH           0\nI           0\nJ           0\nK           0\nL           0\nM           0\nN           0\nO           0\nApproved    0\ndtype: int64"
     },
     "metadata": {},
     "execution_count": 15
    }
   ],
   "source": [
    "# Vamos dar um double check pra ver se ficou algo null\n",
    "df.isnull().sum()"
   ]
  },
  {
   "cell_type": "code",
   "execution_count": 16,
   "metadata": {},
   "outputs": [
    {
     "output_type": "execute_result",
     "data": {
      "text/plain": "count     689\nunique    349\ntop        -1\nfreq       12\nName: B, dtype: int64"
     },
     "metadata": {},
     "execution_count": 16
    }
   ],
   "source": [
    "# Mais uma conferidinha pra ver se o TOP dessa coluna ainda é o ?\n",
    "df['B'].describe()"
   ]
  },
  {
   "cell_type": "code",
   "execution_count": 17,
   "metadata": {},
   "outputs": [],
   "source": [
    "# vai definir X e y\n",
    "entradas = ['A','B','C','D','E','F','G','H','I','J','K','L','M','N','O']\n",
    "saida = ['Approved']\n",
    "\n",
    "X = df[entradas]\n",
    "y = df[saida]"
   ]
  },
  {
   "cell_type": "code",
   "execution_count": 20,
   "metadata": {},
   "outputs": [],
   "source": [
    "# train test split\n",
    "from sklearn.model_selection import train_test_split\n",
    "X_train, X_test, y_train, y_test = train_test_split(X, y, test_size=0.7, random_state=42)\n",
    "\n",
    "from sklearn.metrics import confusion_matrix"
   ]
  },
  {
   "cell_type": "code",
   "execution_count": 21,
   "metadata": {
    "tags": []
   },
   "outputs": [
    {
     "output_type": "stream",
     "name": "stdout",
     "text": "RandomForestClassifier: \n [[245  25]\n [ 38 175]]\n\nDecisionTreeClassifier: \n [[221  49]\n [ 54 159]]\n\nExtraTreesClassifier: \n [[238  32]\n [ 30 183]]\n\nLogisticRegression: \n [[231  39]\n [ 52 161]]\n\nSVC: \n [[251  19]\n [148  65]]\n\nDecisionTreeRegressor: \n [[223  47]\n [ 43 170]]\n\n"
    }
   ],
   "source": [
    "# Aplica os algoritmos...\n",
    "from sklearn.ensemble import RandomForestClassifier\n",
    "from sklearn.tree import DecisionTreeClassifier\n",
    "from sklearn.ensemble import ExtraTreesClassifier\n",
    "from sklearn.linear_model import LogisticRegression\n",
    "from sklearn.svm import SVC\n",
    "from sklearn.tree import DecisionTreeRegressor\n",
    "\n",
    "models = [\n",
    "    {'name': 'RandomForestClassifier' , 'model': RandomForestClassifier(n_estimators=500, max_depth=5) },\n",
    "    {'name': 'DecisionTreeClassifier' , 'model': DecisionTreeClassifier() },\n",
    "    {'name': 'ExtraTreesClassifier' , 'model': ExtraTreesClassifier() },\n",
    "    {'name': 'LogisticRegression' , 'model': LogisticRegression() },\n",
    "    {'name': 'SVC' , 'model': SVC() },\n",
    "    {'name': 'DecisionTreeRegressor' , 'model': DecisionTreeRegressor() },\n",
    "]\n",
    "\n",
    "for m in models:\n",
    "    model = m['model']\n",
    "    model.fit(X_train, y_train)\n",
    "    predict = model.predict(X_test)\n",
    "    cm = confusion_matrix(y_test, predict)\n",
    "    print(m['name'] + ':', '\\n', cm)\n",
    "    print()\n"
   ]
  }
 ]
}